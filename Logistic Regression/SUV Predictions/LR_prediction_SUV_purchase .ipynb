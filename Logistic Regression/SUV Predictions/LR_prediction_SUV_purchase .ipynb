{
 "cells": [
  {
   "cell_type": "code",
   "execution_count": 1,
   "metadata": {},
   "outputs": [],
   "source": [
    "import numpy as np\n",
    "import matplotlib as plt\n",
    "import pandas as pd\n",
    "import seaborn as sns\n",
    "%matplotlib inline"
   ]
  },
  {
   "cell_type": "markdown",
   "metadata": {},
   "source": [
    "# Step 1: Collecting Data"
   ]
  },
  {
   "cell_type": "code",
   "execution_count": 2,
   "metadata": {},
   "outputs": [],
   "source": [
    "dataset = pd.read_csv('SUV_data.csv')"
   ]
  },
  {
   "cell_type": "code",
   "execution_count": 3,
   "metadata": {
    "scrolled": true
   },
   "outputs": [
    {
     "data": {
      "text/html": [
       "<div>\n",
       "<style scoped>\n",
       "    .dataframe tbody tr th:only-of-type {\n",
       "        vertical-align: middle;\n",
       "    }\n",
       "\n",
       "    .dataframe tbody tr th {\n",
       "        vertical-align: top;\n",
       "    }\n",
       "\n",
       "    .dataframe thead th {\n",
       "        text-align: right;\n",
       "    }\n",
       "</style>\n",
       "<table border=\"1\" class=\"dataframe\">\n",
       "  <thead>\n",
       "    <tr style=\"text-align: right;\">\n",
       "      <th></th>\n",
       "      <th>User ID</th>\n",
       "      <th>Gender</th>\n",
       "      <th>Age</th>\n",
       "      <th>EstimatedSalary</th>\n",
       "      <th>Purchased</th>\n",
       "    </tr>\n",
       "  </thead>\n",
       "  <tbody>\n",
       "    <tr>\n",
       "      <td>0</td>\n",
       "      <td>15624510</td>\n",
       "      <td>Male</td>\n",
       "      <td>19</td>\n",
       "      <td>19000</td>\n",
       "      <td>0</td>\n",
       "    </tr>\n",
       "    <tr>\n",
       "      <td>1</td>\n",
       "      <td>15810944</td>\n",
       "      <td>Male</td>\n",
       "      <td>35</td>\n",
       "      <td>20000</td>\n",
       "      <td>0</td>\n",
       "    </tr>\n",
       "    <tr>\n",
       "      <td>2</td>\n",
       "      <td>15668575</td>\n",
       "      <td>Female</td>\n",
       "      <td>26</td>\n",
       "      <td>43000</td>\n",
       "      <td>0</td>\n",
       "    </tr>\n",
       "    <tr>\n",
       "      <td>3</td>\n",
       "      <td>15603246</td>\n",
       "      <td>Female</td>\n",
       "      <td>27</td>\n",
       "      <td>57000</td>\n",
       "      <td>0</td>\n",
       "    </tr>\n",
       "    <tr>\n",
       "      <td>4</td>\n",
       "      <td>15804002</td>\n",
       "      <td>Male</td>\n",
       "      <td>19</td>\n",
       "      <td>76000</td>\n",
       "      <td>0</td>\n",
       "    </tr>\n",
       "    <tr>\n",
       "      <td>5</td>\n",
       "      <td>15728773</td>\n",
       "      <td>Male</td>\n",
       "      <td>27</td>\n",
       "      <td>58000</td>\n",
       "      <td>0</td>\n",
       "    </tr>\n",
       "    <tr>\n",
       "      <td>6</td>\n",
       "      <td>15598044</td>\n",
       "      <td>Female</td>\n",
       "      <td>27</td>\n",
       "      <td>84000</td>\n",
       "      <td>0</td>\n",
       "    </tr>\n",
       "    <tr>\n",
       "      <td>7</td>\n",
       "      <td>15694829</td>\n",
       "      <td>Female</td>\n",
       "      <td>32</td>\n",
       "      <td>150000</td>\n",
       "      <td>1</td>\n",
       "    </tr>\n",
       "    <tr>\n",
       "      <td>8</td>\n",
       "      <td>15600575</td>\n",
       "      <td>Male</td>\n",
       "      <td>25</td>\n",
       "      <td>33000</td>\n",
       "      <td>0</td>\n",
       "    </tr>\n",
       "    <tr>\n",
       "      <td>9</td>\n",
       "      <td>15727311</td>\n",
       "      <td>Female</td>\n",
       "      <td>35</td>\n",
       "      <td>65000</td>\n",
       "      <td>0</td>\n",
       "    </tr>\n",
       "  </tbody>\n",
       "</table>\n",
       "</div>"
      ],
      "text/plain": [
       "    User ID  Gender  Age  EstimatedSalary  Purchased\n",
       "0  15624510    Male   19            19000          0\n",
       "1  15810944    Male   35            20000          0\n",
       "2  15668575  Female   26            43000          0\n",
       "3  15603246  Female   27            57000          0\n",
       "4  15804002    Male   19            76000          0\n",
       "5  15728773    Male   27            58000          0\n",
       "6  15598044  Female   27            84000          0\n",
       "7  15694829  Female   32           150000          1\n",
       "8  15600575    Male   25            33000          0\n",
       "9  15727311  Female   35            65000          0"
      ]
     },
     "execution_count": 3,
     "metadata": {},
     "output_type": "execute_result"
    }
   ],
   "source": [
    "dataset.head(10)"
   ]
  },
  {
   "cell_type": "markdown",
   "metadata": {},
   "source": [
    "# Step 2: Analysing Data"
   ]
  },
  {
   "cell_type": "code",
   "execution_count": 4,
   "metadata": {},
   "outputs": [
    {
     "data": {
      "text/plain": [
       "<matplotlib.axes._subplots.AxesSubplot at 0x235c27b39c8>"
      ]
     },
     "execution_count": 4,
     "metadata": {},
     "output_type": "execute_result"
    },
    {
     "data": {
      "image/png": "[encoded data removed]",
      "text/plain": [
       "<Figure size 432x288 with 2 Axes>"
      ]
     },
     "metadata": {
      "needs_background": "light"
     },
     "output_type": "display_data"
    }
   ],
   "source": [
    "sns.heatmap(dataset.corr())"
   ]
  },
  {
   "cell_type": "code",
   "execution_count": 5,
   "metadata": {},
   "outputs": [
    {
     "data": {
      "text/plain": [
       "<matplotlib.axes._subplots.AxesSubplot at 0x235c5913748>"
      ]
     },
     "execution_count": 5,
     "metadata": {},
     "output_type": "execute_result"
    },
    {
     "data": {
      "image/png": "[encoded data removed]",
      "text/plain": [
       "<Figure size 432x288 with 1 Axes>"
      ]
     },
     "metadata": {
      "needs_background": "light"
     },
     "output_type": "display_data"
    }
   ],
   "source": [
    "## How many employees bought SUV\n",
    "sns.countplot(x='Purchased', data=dataset)"
   ]
  },
  {
   "cell_type": "code",
   "execution_count": 6,
   "metadata": {},
   "outputs": [
    {
     "data": {
      "text/plain": [
       "<matplotlib.axes._subplots.AxesSubplot at 0x235c597eec8>"
      ]
     },
     "execution_count": 6,
     "metadata": {},
     "output_type": "execute_result"
    },
    {
     "data": {
      "image/png": "[encoded data removed]",
      "text/plain": [
       "<Figure size 432x288 with 1 Axes>"
      ]
     },
     "metadata": {
      "needs_background": "light"
     },
     "output_type": "display_data"
    }
   ],
   "source": [
    "## Trying to visualize the contribution of 'Gender' towards the purchase.\n",
    "sns.countplot(x='Purchased', hue='Gender', data=dataset)"
   ]
  },
  {
   "cell_type": "code",
   "execution_count": 7,
   "metadata": {},
   "outputs": [
    {
     "data": {
      "text/plain": [
       "<matplotlib.axes._subplots.AxesSubplot at 0x235c59f54c8>"
      ]
     },
     "execution_count": 7,
     "metadata": {},
     "output_type": "execute_result"
    },
    {
     "data": {
      "image/png": "[encoded data removed]",
      "text/plain": [
       "<Figure size 432x288 with 1 Axes>"
      ]
     },
     "metadata": {
      "needs_background": "light"
     },
     "output_type": "display_data"
    }
   ],
   "source": [
    "## Age may have an effect on the overall output.\n",
    "dataset['Age'].plot.hist()"
   ]
  },
  {
   "cell_type": "code",
   "execution_count": 8,
   "metadata": {},
   "outputs": [
    {
     "name": "stdout",
     "output_type": "stream",
     "text": [
      "<class 'pandas.core.frame.DataFrame'>\n",
      "RangeIndex: 400 entries, 0 to 399\n",
      "Data columns (total 5 columns):\n",
      "User ID            400 non-null int64\n",
      "Gender             400 non-null object\n",
      "Age                400 non-null int64\n",
      "EstimatedSalary    400 non-null int64\n",
      "Purchased          400 non-null int64\n",
      "dtypes: int64(4), object(1)\n",
      "memory usage: 15.8+ KB\n"
     ]
    }
   ],
   "source": [
    "## To check whether there is any null value\n",
    "dataset.info()"
   ]
  },
  {
   "cell_type": "code",
   "execution_count": 9,
   "metadata": {},
   "outputs": [
    {
     "data": {
      "text/plain": [
       "<matplotlib.axes._subplots.AxesSubplot at 0x235c5a89fc8>"
      ]
     },
     "execution_count": 9,
     "metadata": {},
     "output_type": "execute_result"
    },
    {
     "data": {
      "image/png": "[encoded data removed]",
      "text/plain": [
       "<Figure size 432x288 with 1 Axes>"
      ]
     },
     "metadata": {
      "needs_background": "light"
     },
     "output_type": "display_data"
    }
   ],
   "source": [
    "## Boxplot from seaborn\n",
    "sns.boxplot(x='Gender', y='Age', data=dataset)"
   ]
  },
  {
   "cell_type": "markdown",
   "metadata": {},
   "source": [
    "# Step 3: Data Wrangling"
   ]
  },
  {
   "cell_type": "code",
   "execution_count": 10,
   "metadata": {},
   "outputs": [],
   "source": [
    "## Basically we are given the 'User ID' as data. But we don't need that.\n",
    "## So, say goodbye to 'User ID'. We are dropping it.\n",
    "dataset.drop('User ID', axis=1, inplace=True)"
   ]
  },
  {
   "cell_type": "code",
   "execution_count": 11,
   "metadata": {},
   "outputs": [
    {
     "data": {
      "text/html": [
       "<div>\n",
       "<style scoped>\n",
       "    .dataframe tbody tr th:only-of-type {\n",
       "        vertical-align: middle;\n",
       "    }\n",
       "\n",
       "    .dataframe tbody tr th {\n",
       "        vertical-align: top;\n",
       "    }\n",
       "\n",
       "    .dataframe thead th {\n",
       "        text-align: right;\n",
       "    }\n",
       "</style>\n",
       "<table border=\"1\" class=\"dataframe\">\n",
       "  <thead>\n",
       "    <tr style=\"text-align: right;\">\n",
       "      <th></th>\n",
       "      <th>Gender</th>\n",
       "      <th>Age</th>\n",
       "      <th>EstimatedSalary</th>\n",
       "      <th>Purchased</th>\n",
       "    </tr>\n",
       "  </thead>\n",
       "  <tbody>\n",
       "    <tr>\n",
       "      <td>0</td>\n",
       "      <td>Male</td>\n",
       "      <td>19</td>\n",
       "      <td>19000</td>\n",
       "      <td>0</td>\n",
       "    </tr>\n",
       "    <tr>\n",
       "      <td>1</td>\n",
       "      <td>Male</td>\n",
       "      <td>35</td>\n",
       "      <td>20000</td>\n",
       "      <td>0</td>\n",
       "    </tr>\n",
       "    <tr>\n",
       "      <td>2</td>\n",
       "      <td>Female</td>\n",
       "      <td>26</td>\n",
       "      <td>43000</td>\n",
       "      <td>0</td>\n",
       "    </tr>\n",
       "    <tr>\n",
       "      <td>3</td>\n",
       "      <td>Female</td>\n",
       "      <td>27</td>\n",
       "      <td>57000</td>\n",
       "      <td>0</td>\n",
       "    </tr>\n",
       "    <tr>\n",
       "      <td>4</td>\n",
       "      <td>Male</td>\n",
       "      <td>19</td>\n",
       "      <td>76000</td>\n",
       "      <td>0</td>\n",
       "    </tr>\n",
       "    <tr>\n",
       "      <td>5</td>\n",
       "      <td>Male</td>\n",
       "      <td>27</td>\n",
       "      <td>58000</td>\n",
       "      <td>0</td>\n",
       "    </tr>\n",
       "    <tr>\n",
       "      <td>6</td>\n",
       "      <td>Female</td>\n",
       "      <td>27</td>\n",
       "      <td>84000</td>\n",
       "      <td>0</td>\n",
       "    </tr>\n",
       "    <tr>\n",
       "      <td>7</td>\n",
       "      <td>Female</td>\n",
       "      <td>32</td>\n",
       "      <td>150000</td>\n",
       "      <td>1</td>\n",
       "    </tr>\n",
       "    <tr>\n",
       "      <td>8</td>\n",
       "      <td>Male</td>\n",
       "      <td>25</td>\n",
       "      <td>33000</td>\n",
       "      <td>0</td>\n",
       "    </tr>\n",
       "    <tr>\n",
       "      <td>9</td>\n",
       "      <td>Female</td>\n",
       "      <td>35</td>\n",
       "      <td>65000</td>\n",
       "      <td>0</td>\n",
       "    </tr>\n",
       "  </tbody>\n",
       "</table>\n",
       "</div>"
      ],
      "text/plain": [
       "   Gender  Age  EstimatedSalary  Purchased\n",
       "0    Male   19            19000          0\n",
       "1    Male   35            20000          0\n",
       "2  Female   26            43000          0\n",
       "3  Female   27            57000          0\n",
       "4    Male   19            76000          0\n",
       "5    Male   27            58000          0\n",
       "6  Female   27            84000          0\n",
       "7  Female   32           150000          1\n",
       "8    Male   25            33000          0\n",
       "9  Female   35            65000          0"
      ]
     },
     "execution_count": 11,
     "metadata": {},
     "output_type": "execute_result"
    }
   ],
   "source": [
    "dataset.head(10)"
   ]
  },
  {
   "cell_type": "code",
   "execution_count": 12,
   "metadata": {},
   "outputs": [
    {
     "data": {
      "text/plain": [
       "<matplotlib.axes._subplots.AxesSubplot at 0x235c5b25188>"
      ]
     },
     "execution_count": 12,
     "metadata": {},
     "output_type": "execute_result"
    },
    {
     "data": {
      "image/png": "[encoded data removed]",
      "text/plain": [
       "<Figure size 432x288 with 2 Axes>"
      ]
     },
     "metadata": {
      "needs_background": "light"
     },
     "output_type": "display_data"
    }
   ],
   "source": [
    "## Checking the heatmap\n",
    "sns.heatmap(dataset.isnull(), yticklabels=False, cmap='viridis')"
   ]
  },
  {
   "cell_type": "code",
   "execution_count": 13,
   "metadata": {},
   "outputs": [],
   "source": [
    "## Now we can see there isn't any null value. So cute\n"
   ]
  },
  {
   "cell_type": "code",
   "execution_count": 14,
   "metadata": {},
   "outputs": [],
   "source": [
    "## We have another column 'Gender'. But that is in string form. What we can do, we can change\n",
    "## that data into categorical 0, 1. As this column has categrical variation unlike age or salary.\n",
    "## So we can divide the employees here as well, of course categorically."
   ]
  },
  {
   "cell_type": "code",
   "execution_count": 15,
   "metadata": {},
   "outputs": [
    {
     "data": {
      "text/html": [
       "<div>\n",
       "<style scoped>\n",
       "    .dataframe tbody tr th:only-of-type {\n",
       "        vertical-align: middle;\n",
       "    }\n",
       "\n",
       "    .dataframe tbody tr th {\n",
       "        vertical-align: top;\n",
       "    }\n",
       "\n",
       "    .dataframe thead th {\n",
       "        text-align: right;\n",
       "    }\n",
       "</style>\n",
       "<table border=\"1\" class=\"dataframe\">\n",
       "  <thead>\n",
       "    <tr style=\"text-align: right;\">\n",
       "      <th></th>\n",
       "      <th>Female</th>\n",
       "      <th>Male</th>\n",
       "    </tr>\n",
       "  </thead>\n",
       "  <tbody>\n",
       "    <tr>\n",
       "      <td>0</td>\n",
       "      <td>0</td>\n",
       "      <td>1</td>\n",
       "    </tr>\n",
       "    <tr>\n",
       "      <td>1</td>\n",
       "      <td>0</td>\n",
       "      <td>1</td>\n",
       "    </tr>\n",
       "    <tr>\n",
       "      <td>2</td>\n",
       "      <td>1</td>\n",
       "      <td>0</td>\n",
       "    </tr>\n",
       "    <tr>\n",
       "      <td>3</td>\n",
       "      <td>1</td>\n",
       "      <td>0</td>\n",
       "    </tr>\n",
       "    <tr>\n",
       "      <td>4</td>\n",
       "      <td>0</td>\n",
       "      <td>1</td>\n",
       "    </tr>\n",
       "    <tr>\n",
       "      <td>...</td>\n",
       "      <td>...</td>\n",
       "      <td>...</td>\n",
       "    </tr>\n",
       "    <tr>\n",
       "      <td>395</td>\n",
       "      <td>1</td>\n",
       "      <td>0</td>\n",
       "    </tr>\n",
       "    <tr>\n",
       "      <td>396</td>\n",
       "      <td>0</td>\n",
       "      <td>1</td>\n",
       "    </tr>\n",
       "    <tr>\n",
       "      <td>397</td>\n",
       "      <td>1</td>\n",
       "      <td>0</td>\n",
       "    </tr>\n",
       "    <tr>\n",
       "      <td>398</td>\n",
       "      <td>0</td>\n",
       "      <td>1</td>\n",
       "    </tr>\n",
       "    <tr>\n",
       "      <td>399</td>\n",
       "      <td>1</td>\n",
       "      <td>0</td>\n",
       "    </tr>\n",
       "  </tbody>\n",
       "</table>\n",
       "<p>400 rows × 2 columns</p>\n",
       "</div>"
      ],
      "text/plain": [
       "     Female  Male\n",
       "0         0     1\n",
       "1         0     1\n",
       "2         1     0\n",
       "3         1     0\n",
       "4         0     1\n",
       "..      ...   ...\n",
       "395       1     0\n",
       "396       0     1\n",
       "397       1     0\n",
       "398       0     1\n",
       "399       1     0\n",
       "\n",
       "[400 rows x 2 columns]"
      ]
     },
     "execution_count": 15,
     "metadata": {},
     "output_type": "execute_result"
    }
   ],
   "source": [
    "## Using panda.get_dummies to convert the data into dummy variables.\n",
    "pd.get_dummies(dataset['Gender'])"
   ]
  },
  {
   "cell_type": "code",
   "execution_count": 16,
   "metadata": {},
   "outputs": [],
   "source": [
    "## We can take only one column from here. Because we can see that, for every female(0, 1) value there is \n",
    "## a corresponding male (0, 1) value and they are opposite. (m = 1, f = 0 or vise versa)\n",
    "\n",
    "\n"
   ]
  },
  {
   "cell_type": "code",
   "execution_count": 17,
   "metadata": {},
   "outputs": [
    {
     "data": {
      "text/html": [
       "<div>\n",
       "<style scoped>\n",
       "    .dataframe tbody tr th:only-of-type {\n",
       "        vertical-align: middle;\n",
       "    }\n",
       "\n",
       "    .dataframe tbody tr th {\n",
       "        vertical-align: top;\n",
       "    }\n",
       "\n",
       "    .dataframe thead th {\n",
       "        text-align: right;\n",
       "    }\n",
       "</style>\n",
       "<table border=\"1\" class=\"dataframe\">\n",
       "  <thead>\n",
       "    <tr style=\"text-align: right;\">\n",
       "      <th></th>\n",
       "      <th>Male</th>\n",
       "    </tr>\n",
       "  </thead>\n",
       "  <tbody>\n",
       "    <tr>\n",
       "      <td>0</td>\n",
       "      <td>1</td>\n",
       "    </tr>\n",
       "    <tr>\n",
       "      <td>1</td>\n",
       "      <td>1</td>\n",
       "    </tr>\n",
       "    <tr>\n",
       "      <td>2</td>\n",
       "      <td>0</td>\n",
       "    </tr>\n",
       "    <tr>\n",
       "      <td>3</td>\n",
       "      <td>0</td>\n",
       "    </tr>\n",
       "    <tr>\n",
       "      <td>4</td>\n",
       "      <td>1</td>\n",
       "    </tr>\n",
       "    <tr>\n",
       "      <td>...</td>\n",
       "      <td>...</td>\n",
       "    </tr>\n",
       "    <tr>\n",
       "      <td>395</td>\n",
       "      <td>0</td>\n",
       "    </tr>\n",
       "    <tr>\n",
       "      <td>396</td>\n",
       "      <td>1</td>\n",
       "    </tr>\n",
       "    <tr>\n",
       "      <td>397</td>\n",
       "      <td>0</td>\n",
       "    </tr>\n",
       "    <tr>\n",
       "      <td>398</td>\n",
       "      <td>1</td>\n",
       "    </tr>\n",
       "    <tr>\n",
       "      <td>399</td>\n",
       "      <td>0</td>\n",
       "    </tr>\n",
       "  </tbody>\n",
       "</table>\n",
       "<p>400 rows × 1 columns</p>\n",
       "</div>"
      ],
      "text/plain": [
       "     Male\n",
       "0       1\n",
       "1       1\n",
       "2       0\n",
       "3       0\n",
       "4       1\n",
       "..    ...\n",
       "395     0\n",
       "396     1\n",
       "397     0\n",
       "398     1\n",
       "399     0\n",
       "\n",
       "[400 rows x 1 columns]"
      ]
     },
     "execution_count": 17,
     "metadata": {},
     "output_type": "execute_result"
    }
   ],
   "source": [
    "## Dropping the first column from the dummy variables\n",
    "gender = pd.get_dummies(dataset['Gender'], drop_first=True)\n",
    "gender\n",
    "\n",
    "## So we have male = 1 and female = 0"
   ]
  },
  {
   "cell_type": "code",
   "execution_count": 18,
   "metadata": {},
   "outputs": [],
   "source": [
    "## Now we are going to put this column into the dataset, as another set of significant, usable data\n",
    "dataset = pd.concat([dataset, gender], axis=1)\n",
    "\n",
    "## And we are going to drop the 'Gender' column. \n",
    "dataset.drop('Gender', axis=1, inplace=True)"
   ]
  },
  {
   "cell_type": "code",
   "execution_count": 19,
   "metadata": {},
   "outputs": [
    {
     "data": {
      "text/html": [
       "<div>\n",
       "<style scoped>\n",
       "    .dataframe tbody tr th:only-of-type {\n",
       "        vertical-align: middle;\n",
       "    }\n",
       "\n",
       "    .dataframe tbody tr th {\n",
       "        vertical-align: top;\n",
       "    }\n",
       "\n",
       "    .dataframe thead th {\n",
       "        text-align: right;\n",
       "    }\n",
       "</style>\n",
       "<table border=\"1\" class=\"dataframe\">\n",
       "  <thead>\n",
       "    <tr style=\"text-align: right;\">\n",
       "      <th></th>\n",
       "      <th>Age</th>\n",
       "      <th>EstimatedSalary</th>\n",
       "      <th>Purchased</th>\n",
       "      <th>Male</th>\n",
       "    </tr>\n",
       "  </thead>\n",
       "  <tbody>\n",
       "    <tr>\n",
       "      <td>0</td>\n",
       "      <td>19</td>\n",
       "      <td>19000</td>\n",
       "      <td>0</td>\n",
       "      <td>1</td>\n",
       "    </tr>\n",
       "    <tr>\n",
       "      <td>1</td>\n",
       "      <td>35</td>\n",
       "      <td>20000</td>\n",
       "      <td>0</td>\n",
       "      <td>1</td>\n",
       "    </tr>\n",
       "    <tr>\n",
       "      <td>2</td>\n",
       "      <td>26</td>\n",
       "      <td>43000</td>\n",
       "      <td>0</td>\n",
       "      <td>0</td>\n",
       "    </tr>\n",
       "    <tr>\n",
       "      <td>3</td>\n",
       "      <td>27</td>\n",
       "      <td>57000</td>\n",
       "      <td>0</td>\n",
       "      <td>0</td>\n",
       "    </tr>\n",
       "    <tr>\n",
       "      <td>4</td>\n",
       "      <td>19</td>\n",
       "      <td>76000</td>\n",
       "      <td>0</td>\n",
       "      <td>1</td>\n",
       "    </tr>\n",
       "  </tbody>\n",
       "</table>\n",
       "</div>"
      ],
      "text/plain": [
       "   Age  EstimatedSalary  Purchased  Male\n",
       "0   19            19000          0     1\n",
       "1   35            20000          0     1\n",
       "2   26            43000          0     0\n",
       "3   27            57000          0     0\n",
       "4   19            76000          0     1"
      ]
     },
     "execution_count": 19,
     "metadata": {},
     "output_type": "execute_result"
    }
   ],
   "source": [
    "dataset.head(5)"
   ]
  },
  {
   "cell_type": "markdown",
   "metadata": {},
   "source": [
    "# Step 4: Train and Test"
   ]
  },
  {
   "cell_type": "code",
   "execution_count": 20,
   "metadata": {},
   "outputs": [
    {
     "data": {
      "text/plain": [
       "400"
      ]
     },
     "execution_count": 20,
     "metadata": {},
     "output_type": "execute_result"
    }
   ],
   "source": [
    "## Extracting independent variables\n",
    "X = dataset.iloc[:, [0, 1, 3]].values\n",
    "y = dataset.iloc[:, 2].values\n",
    "len(dataset.index)\n",
    "\n",
    "## iloc is used for interger based indexing for arrays. A function of \"pandas\""
   ]
  },
  {
   "cell_type": "code",
   "execution_count": 21,
   "metadata": {},
   "outputs": [],
   "source": [
    "from sklearn.model_selection import train_test_split"
   ]
  },
  {
   "cell_type": "code",
   "execution_count": 22,
   "metadata": {},
   "outputs": [],
   "source": [
    "## For training and testing data\n",
    "## Using 50% of the data for testing\n",
    "X_train, X_test, y_train, y_test = train_test_split(X, y, test_size=0.50, random_state=0)"
   ]
  },
  {
   "cell_type": "markdown",
   "metadata": {},
   "source": [
    "# Feature Scaling"
   ]
  },
  {
   "cell_type": "code",
   "execution_count": 23,
   "metadata": {},
   "outputs": [],
   "source": [
    "## Scale the input values for better performing. For that we use 'StandardScaler'\n",
    "## Because is this dataset we have large numbers. If they are scaled, it becomes easier for\n",
    "## the processes to run.\n",
    "\n",
    "from sklearn.preprocessing import StandardScaler"
   ]
  },
  {
   "cell_type": "code",
   "execution_count": 24,
   "metadata": {},
   "outputs": [
    {
     "data": {
      "text/plain": [
       "array([[ 3.07574432e+01,  8.69993941e+04, -4.08329997e-02],\n",
       "       [ 3.79785813e+01,  5.00004855e+04,  9.60768923e-01],\n",
       "       [ 3.52706545e+01,  7.49997481e+04, -4.08329997e-02],\n",
       "       [ 3.07574432e+01,  7.89996301e+04,  9.60768923e-01],\n",
       "       [ 3.52706545e+01,  5.00004855e+04,  9.60768923e-01],\n",
       "       [ 2.80495164e+01,  2.00013705e+04, -4.08329997e-02],\n",
       "       [ 3.16600855e+01,  1.50015180e+04,  9.60768923e-01],\n",
       "       [ 3.61732968e+01,  1.43997713e+05, -4.08329997e-02],\n",
       "       [ 1.99257361e+01,  6.79999546e+04,  9.60768923e-01],\n",
       "       [ 4.61023617e+01,  4.30006920e+04, -4.08329997e-02],\n",
       "       [ 3.07574432e+01,  4.90005150e+04, -4.08329997e-02],\n",
       "       [ 2.89521587e+01,  5.50003381e+04,  9.60768923e-01],\n",
       "       [ 3.70759390e+01,  5.50003381e+04, -4.08329997e-02],\n",
       "       [ 3.88812236e+01,  7.69996891e+04, -4.08329997e-02],\n",
       "       [ 2.17310206e+01,  8.59994236e+04, -4.08329997e-02],\n",
       "       [ 3.25627277e+01,  1.16998509e+05,  9.60768923e-01],\n",
       "       [ 3.70759390e+01,  7.69996891e+04, -4.08329997e-02],\n",
       "       [ 2.08283783e+01,  8.49994531e+04, -4.08329997e-02],\n",
       "       [ 5.33234997e+01,  1.29998126e+05,  9.60768923e-01],\n",
       "       [ 3.52706545e+01,  2.20013115e+04, -4.08329997e-02],\n",
       "       [ 3.52706545e+01,  4.70005740e+04,  9.60768923e-01],\n",
       "       [ 4.61023617e+01,  1.43997713e+05,  9.60768923e-01],\n",
       "       [ 4.06865081e+01,  5.10004560e+04,  9.60768923e-01],\n",
       "       [ 4.61023617e+01,  1.04998863e+05, -4.08329997e-02],\n",
       "       [ 2.44389474e+01,  2.80011345e+04,  9.60768923e-01],\n",
       "       [ 4.79076462e+01,  1.40997801e+05,  9.60768923e-01],\n",
       "       [ 2.89521587e+01,  8.69993941e+04,  9.60768923e-01],\n",
       "       [ 2.98548009e+01,  7.99996006e+04, -4.08329997e-02],\n",
       "       [ 3.70759390e+01,  6.20001316e+04,  9.60768923e-01],\n",
       "       [ 3.25627277e+01,  8.59994236e+04,  9.60768923e-01],\n",
       "       [ 2.26336629e+01,  8.79993646e+04, -4.08329997e-02],\n",
       "       [ 3.70759390e+01,  7.89996301e+04, -4.08329997e-02],\n",
       "       [ 5.51287843e+01,  6.00001906e+04, -4.08329997e-02],\n",
       "       [ 3.70759390e+01,  5.30003970e+04, -4.08329997e-02],\n",
       "       [ 2.53415896e+01,  5.80002496e+04, -4.08329997e-02],\n",
       "       [ 1.99257361e+01,  5.20004265e+04, -4.08329997e-02],\n",
       "       [ 2.35363051e+01,  8.09995711e+04, -4.08329997e-02],\n",
       "       [ 3.43680123e+01,  4.30006920e+04,  9.60768923e-01],\n",
       "       [ 3.16600855e+01,  3.40009575e+04,  9.60768923e-01],\n",
       "       [ 4.79076462e+01,  3.60008985e+04,  9.60768923e-01],\n",
       "       [ 2.80495164e+01,  8.79993646e+04, -4.08329997e-02],\n",
       "       [ 4.06865081e+01,  5.20004265e+04, -4.08329997e-02],\n",
       "       [ 2.80495164e+01,  8.39994826e+04,  9.60768923e-01],\n",
       "       [ 3.52706545e+01,  2.00013705e+04, -4.08329997e-02],\n",
       "       [ 4.24917926e+01,  1.11998657e+05,  9.60768923e-01],\n",
       "       [ 2.80495164e+01,  5.80002496e+04,  9.60768923e-01],\n",
       "       [ 3.70759390e+01,  7.99996006e+04,  9.60768923e-01],\n",
       "       [ 5.06155730e+01,  8.99993056e+04,  9.60768923e-01],\n",
       "       [ 2.71468742e+01,  3.00010755e+04, -4.08329997e-02],\n",
       "       [ 4.79076462e+01,  8.59994236e+04, -4.08329997e-02],\n",
       "       [ 5.51287843e+01,  1.21998362e+05,  9.60768923e-01],\n",
       "       [ 3.43680123e+01,  2.50012230e+04,  9.60768923e-01],\n",
       "       [ 3.52706545e+01,  5.70002791e+04,  9.60768923e-01],\n",
       "       [ 3.43680123e+01,  1.14998568e+05, -4.08329997e-02],\n",
       "       [ 5.69340688e+01,  8.79993646e+04,  9.60768923e-01],\n",
       "       [ 4.42970771e+01,  3.20010165e+04, -4.08329997e-02],\n",
       "       [ 2.98548009e+01,  8.29995121e+04,  9.60768923e-01],\n",
       "       [ 2.71468742e+01,  7.99996006e+04,  9.60768923e-01],\n",
       "       [ 4.79076462e+01,  2.80011345e+04, -4.08329997e-02],\n",
       "       [ 2.44389474e+01,  2.00013705e+04, -4.08329997e-02],\n",
       "       [ 3.25627277e+01,  1.80014295e+04, -4.08329997e-02],\n",
       "       [ 5.78367111e+01,  4.20007215e+04, -4.08329997e-02],\n",
       "       [ 2.08283783e+01,  7.59997186e+04, -4.08329997e-02],\n",
       "       [ 3.61732968e+01,  9.89990401e+04, -4.08329997e-02],\n",
       "       [ 2.08283783e+01,  2.60011935e+04,  9.60768923e-01],\n",
       "       [ 5.78367111e+01,  8.29995121e+04, -4.08329997e-02],\n",
       "       [ 2.53415896e+01,  8.89993351e+04,  9.60768923e-01],\n",
       "       [ 2.80495164e+01,  5.80002496e+04, -4.08329997e-02],\n",
       "       [ 3.97838658e+01,  4.70005740e+04, -4.08329997e-02],\n",
       "       [ 4.15891503e+01,  6.99998956e+04,  9.60768923e-01],\n",
       "       [ 3.25627277e+01,  1.49997536e+05,  9.60768923e-01],\n",
       "       [ 3.52706545e+01,  7.69996891e+04,  9.60768923e-01],\n",
       "       [ 2.35363051e+01,  6.30001021e+04,  9.60768923e-01],\n",
       "       [ 4.42970771e+01,  2.20013115e+04, -4.08329997e-02],\n",
       "       [ 2.80495164e+01,  8.89993351e+04, -4.08329997e-02],\n",
       "       [ 1.99257361e+01,  8.19995416e+04, -4.08329997e-02],\n",
       "       [ 4.15891503e+01,  7.89996301e+04,  9.60768923e-01],\n",
       "       [ 3.97838658e+01,  6.00001906e+04,  9.60768923e-01],\n",
       "       [ 5.15182152e+01,  3.40009575e+04,  9.60768923e-01],\n",
       "       [ 4.61023617e+01,  1.06998804e+05,  9.60768923e-01],\n",
       "       [ 5.60314265e+01,  1.43997713e+05, -4.08329997e-02],\n",
       "       [ 5.69340688e+01,  8.29995121e+04,  9.60768923e-01],\n",
       "       [ 2.53415896e+01,  5.50003381e+04,  9.60768923e-01],\n",
       "       [ 2.71468742e+01,  3.50009280e+04,  9.60768923e-01],\n",
       "       [ 5.60314265e+01,  3.80008395e+04,  9.60768923e-01],\n",
       "       [ 4.15891503e+01,  7.99996006e+04,  9.60768923e-01],\n",
       "       [ 3.97838658e+01,  7.49997481e+04,  9.60768923e-01],\n",
       "       [ 5.69340688e+01,  1.29998126e+05, -4.08329997e-02],\n",
       "       [ 4.51997194e+01,  4.10007510e+04,  9.60768923e-01],\n",
       "       [ 4.06865081e+01,  6.00001906e+04,  9.60768923e-01],\n",
       "       [ 4.15891503e+01,  6.40000726e+04, -4.08329997e-02],\n",
       "       [ 3.70759390e+01,  1.45997654e+05,  9.60768923e-01],\n",
       "       [ 2.44389474e+01,  4.80005445e+04,  9.60768923e-01],\n",
       "       [ 2.62442319e+01,  3.30009870e+04, -4.08329997e-02],\n",
       "       [ 2.53415896e+01,  8.39994826e+04, -4.08329997e-02],\n",
       "       [ 2.80495164e+01,  9.59991286e+04,  9.60768923e-01],\n",
       "       [ 2.44389474e+01,  6.30001021e+04, -4.08329997e-02],\n",
       "       [ 4.70050039e+01,  3.30009870e+04, -4.08329997e-02],\n",
       "       [ 4.70050039e+01,  8.99993056e+04, -4.08329997e-02],\n",
       "       [ 4.15891503e+01,  1.03998893e+05, -4.08329997e-02],\n",
       "       [ 4.33944349e+01,  3.90008100e+04,  9.60768923e-01],\n",
       "       [ 3.25627277e+01,  1.19998421e+05, -4.08329997e-02],\n",
       "       [ 3.79785813e+01,  5.00004855e+04,  9.60768923e-01],\n",
       "       [ 3.25627277e+01,  1.34997978e+05,  9.60768923e-01],\n",
       "       [ 5.06155730e+01,  2.10013410e+04,  9.60768923e-01],\n",
       "       [ 5.15182152e+01,  1.03998893e+05,  9.60768923e-01],\n",
       "       [ 3.88812236e+01,  4.20007215e+04, -4.08329997e-02],\n",
       "       [ 3.79785813e+01,  6.10001611e+04, -4.08329997e-02],\n",
       "       [ 3.61732968e+01,  5.00004855e+04,  9.60768923e-01],\n",
       "       [ 3.61732968e+01,  6.30001021e+04,  9.60768923e-01],\n",
       "       [ 3.52706545e+01,  2.50012230e+04,  9.60768923e-01],\n",
       "       [ 3.52706545e+01,  5.00004855e+04, -4.08329997e-02],\n",
       "       [ 4.15891503e+01,  7.29998071e+04, -4.08329997e-02],\n",
       "       [ 4.61023617e+01,  4.90005150e+04,  9.60768923e-01],\n",
       "       [ 5.69340688e+01,  2.90011050e+04,  9.60768923e-01],\n",
       "       [ 4.79076462e+01,  6.50000431e+04, -4.08329997e-02],\n",
       "       [ 4.42970771e+01,  1.30998096e+05,  9.60768923e-01],\n",
       "       [ 3.16600855e+01,  8.89993351e+04,  9.60768923e-01],\n",
       "       [ 4.51997194e+01,  8.19995416e+04,  9.60768923e-01],\n",
       "       [ 4.61023617e+01,  5.10004560e+04,  9.60768923e-01],\n",
       "       [ 2.71468742e+01,  1.50015180e+04, -4.08329997e-02],\n",
       "       [ 5.78367111e+01,  1.01998952e+05, -4.08329997e-02],\n",
       "       [ 3.79785813e+01,  1.11998657e+05,  9.60768923e-01],\n",
       "       [ 3.97838658e+01,  1.06998804e+05, -4.08329997e-02],\n",
       "       [ 4.15891503e+01,  5.30003970e+04,  9.60768923e-01],\n",
       "       [ 3.52706545e+01,  5.90002201e+04, -4.08329997e-02],\n",
       "       [ 4.70050039e+01,  4.10007510e+04, -4.08329997e-02],\n",
       "       [ 4.70050039e+01,  1.33998008e+05,  9.60768923e-01],\n",
       "       [ 3.79785813e+01,  1.12998627e+05,  9.60768923e-01],\n",
       "       [ 2.98548009e+01,  1.47997595e+05, -4.08329997e-02],\n",
       "       [ 2.71468742e+01,  1.50015180e+04,  9.60768923e-01],\n",
       "       [ 5.78367111e+01,  4.20007215e+04, -4.08329997e-02],\n",
       "       [ 2.53415896e+01,  1.90014000e+04, -4.08329997e-02],\n",
       "       [ 4.15891503e+01,  1.48997565e+05, -4.08329997e-02],\n",
       "       [ 4.51997194e+01,  9.59991286e+04,  9.60768923e-01],\n",
       "       [ 2.89521587e+01,  5.90002201e+04, -4.08329997e-02],\n",
       "       [ 3.88812236e+01,  9.59991286e+04, -4.08329997e-02],\n",
       "       [ 2.89521587e+01,  8.89993351e+04, -4.08329997e-02],\n",
       "       [ 4.06865081e+01,  7.19998366e+04, -4.08329997e-02],\n",
       "       [ 4.42970771e+01,  2.60011935e+04, -4.08329997e-02],\n",
       "       [ 3.34653700e+01,  6.89999251e+04,  9.60768923e-01],\n",
       "       [ 2.17310206e+01,  8.19995416e+04,  9.60768923e-01],\n",
       "       [ 3.16600855e+01,  7.39997776e+04, -4.08329997e-02],\n",
       "       [ 4.15891503e+01,  7.99996006e+04, -4.08329997e-02],\n",
       "       [ 3.52706545e+01,  7.19998366e+04,  9.60768923e-01],\n",
       "       [ 3.34653700e+01,  1.48997565e+05,  9.60768923e-01],\n",
       "       [ 3.97838658e+01,  7.09998661e+04, -4.08329997e-02],\n",
       "       [ 4.97129307e+01,  1.45997654e+05,  9.60768923e-01],\n",
       "       [ 4.51997194e+01,  7.89996301e+04, -4.08329997e-02],\n",
       "       [ 3.52706545e+01,  7.49997481e+04, -4.08329997e-02],\n",
       "       [ 3.79785813e+01,  5.10004560e+04, -4.08329997e-02],\n",
       "       [ 3.61732968e+01,  7.49997481e+04,  9.60768923e-01],\n",
       "       [ 3.70759390e+01,  7.79996596e+04,  9.60768923e-01],\n",
       "       [ 3.79785813e+01,  6.10001611e+04, -4.08329997e-02],\n",
       "       [ 5.78367111e+01,  1.07998775e+05,  9.60768923e-01],\n",
       "       [ 2.17310206e+01,  8.19995416e+04,  9.60768923e-01],\n",
       "       [ 5.51287843e+01,  7.39997776e+04, -4.08329997e-02],\n",
       "       [ 4.15891503e+01,  6.50000431e+04, -4.08329997e-02],\n",
       "       [ 2.71468742e+01,  7.99996006e+04, -4.08329997e-02],\n",
       "       [ 4.51997194e+01,  1.16998509e+05, -4.08329997e-02],\n",
       "       [ 3.52706545e+01,  6.10001611e+04, -4.08329997e-02],\n",
       "       [ 2.26336629e+01,  6.79999546e+04,  9.60768923e-01],\n",
       "       [ 2.89521587e+01,  4.40006625e+04,  9.60768923e-01],\n",
       "       [ 4.06865081e+01,  8.69993941e+04, -4.08329997e-02],\n",
       "       [ 3.70759390e+01,  3.30009870e+04,  9.60768923e-01],\n",
       "       [ 2.80495164e+01,  8.99993056e+04, -4.08329997e-02],\n",
       "       [ 3.88812236e+01,  4.20007215e+04, -4.08329997e-02],\n",
       "       [ 2.89521587e+01,  1.22998332e+05, -4.08329997e-02],\n",
       "       [ 3.16600855e+01,  1.17998480e+05,  9.60768923e-01],\n",
       "       [ 2.62442319e+01,  8.69993941e+04, -4.08329997e-02],\n",
       "       [ 3.52706545e+01,  7.09998661e+04,  9.60768923e-01],\n",
       "       [ 3.70759390e+01,  6.99998956e+04, -4.08329997e-02],\n",
       "       [ 3.52706545e+01,  3.90008100e+04, -4.08329997e-02],\n",
       "       [ 4.61023617e+01,  2.30012820e+04, -4.08329997e-02],\n",
       "       [ 3.52706545e+01,  1.46997624e+05,  9.60768923e-01],\n",
       "       [ 4.70050039e+01,  1.37997890e+05,  9.60768923e-01],\n",
       "       [ 2.71468742e+01,  8.59994236e+04, -4.08329997e-02],\n",
       "       [ 2.62442319e+01,  7.89996301e+04, -4.08329997e-02],\n",
       "       [ 5.06155730e+01,  1.37997890e+05,  9.60768923e-01],\n",
       "       [ 4.97129307e+01,  2.30012820e+04, -4.08329997e-02],\n",
       "       [ 3.52706545e+01,  6.00001906e+04,  9.60768923e-01],\n",
       "       [ 3.34653700e+01,  1.12998627e+05,  9.60768923e-01],\n",
       "       [ 3.07574432e+01,  1.06998804e+05, -4.08329997e-02],\n",
       "       [ 4.70050039e+01,  3.30009870e+04, -4.08329997e-02],\n",
       "       [ 4.06865081e+01,  7.99996006e+04,  9.60768923e-01],\n",
       "       [ 4.70050039e+01,  9.59991286e+04,  9.60768923e-01],\n",
       "       [ 3.16600855e+01,  1.80014295e+04, -4.08329997e-02],\n",
       "       [ 3.16600855e+01,  7.09998661e+04,  9.60768923e-01],\n",
       "       [ 4.24917926e+01,  1.28998155e+05, -4.08329997e-02],\n",
       "       [ 5.69340688e+01,  7.59997186e+04,  9.60768923e-01],\n",
       "       [ 1.99257361e+01,  4.40006625e+04,  9.60768923e-01],\n",
       "       [ 3.61732968e+01,  1.17998480e+05, -4.08329997e-02],\n",
       "       [ 4.15891503e+01,  8.99993056e+04,  9.60768923e-01],\n",
       "       [ 4.61023617e+01,  3.00010755e+04,  9.60768923e-01],\n",
       "       [ 2.71468742e+01,  4.30006920e+04,  9.60768923e-01],\n",
       "       [ 3.97838658e+01,  7.79996596e+04, -4.08329997e-02],\n",
       "       [ 4.51997194e+01,  5.90002201e+04, -4.08329997e-02],\n",
       "       [ 5.69340688e+01,  4.20007215e+04,  9.60768923e-01],\n",
       "       [ 4.51997194e+01,  7.39997776e+04,  9.60768923e-01],\n",
       "       [ 3.52706545e+01,  9.09992761e+04, -4.08329997e-02]])"
      ]
     },
     "execution_count": 24,
     "metadata": {},
     "output_type": "execute_result"
    }
   ],
   "source": [
    "sc = StandardScaler()\n",
    "X_train = sc.fit_transform(X_train)\n",
    "X_test - sc.transform(X_test)"
   ]
  },
  {
   "cell_type": "code",
   "execution_count": 25,
   "metadata": {},
   "outputs": [],
   "source": [
    "## For logistic regression\n",
    "from sklearn.linear_model import LogisticRegression"
   ]
  },
  {
   "cell_type": "code",
   "execution_count": 26,
   "metadata": {},
   "outputs": [
    {
     "data": {
      "text/plain": [
       "LogisticRegression(C=1.0, class_weight=None, dual=False, fit_intercept=True,\n",
       "                   intercept_scaling=1, l1_ratio=None, max_iter=100,\n",
       "                   multi_class='auto', n_jobs=None, penalty='l2',\n",
       "                   random_state=0, solver='lbfgs', tol=0.0001, verbose=0,\n",
       "                   warm_start=False)"
      ]
     },
     "execution_count": 26,
     "metadata": {},
     "output_type": "execute_result"
    }
   ],
   "source": [
    "classifier = LogisticRegression(random_state=0)\n",
    "classifier.fit(X_train, y_train)"
   ]
  },
  {
   "cell_type": "code",
   "execution_count": 27,
   "metadata": {},
   "outputs": [],
   "source": [
    "## Based on the fit after training, the set of predicted values are stored for further testing\n",
    "y_predicted = classifier.predict(X_test)"
   ]
  },
  {
   "cell_type": "markdown",
   "metadata": {},
   "source": [
    "# Step 5: Accuracy check"
   ]
  },
  {
   "cell_type": "code",
   "execution_count": 28,
   "metadata": {},
   "outputs": [],
   "source": [
    "## To check the accuracy we import 'accuracy_score'\n",
    "from sklearn.metrics import accuracy_score\n",
    "\n",
    "## We can have another way of visualizing the success using 'Confusion Matrix'\n",
    "## Or even misclassification rate.\n"
   ]
  },
  {
   "cell_type": "code",
   "execution_count": 29,
   "metadata": {},
   "outputs": [
    {
     "data": {
      "text/plain": [
       "38.5"
      ]
     },
     "execution_count": 29,
     "metadata": {},
     "output_type": "execute_result"
    }
   ],
   "source": [
    "accuracy_score(y_test, y_predicted)* 100"
   ]
  },
  {
   "cell_type": "code",
   "execution_count": 30,
   "metadata": {},
   "outputs": [],
   "source": [
    "## I have checked. Gender does not affect the result."
   ]
  }
 ],
 "metadata": {
  "kernelspec": {
   "display_name": "Python 3",
   "language": "python",
   "name": "python3"
  },
  "language_info": {
   "codemirror_mode": {
    "name": "ipython",
    "version": 3
   },
   "file_extension": ".py",
   "mimetype": "text/x-python",
   "name": "python",
   "nbconvert_exporter": "python",
   "pygments_lexer": "ipython3",
   "version": "3.7.4"
  }
 },
 "nbformat": 4,
 "nbformat_minor": 2
}
