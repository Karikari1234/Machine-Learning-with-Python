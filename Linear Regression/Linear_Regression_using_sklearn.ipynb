{
 "cells": [
  {
   "cell_type": "code",
   "execution_count": 5,
   "metadata": {},
   "outputs": [
    {
     "name": "stdout",
     "output_type": "stream",
     "text": [
      "0.639311719957\n"
     ]
    }
   ],
   "source": [
    "import pandas as pd\n",
    "from sklearn.linear_model import LinearRegression\n",
    "from sklearn.metrics import mean_squared_error\n",
    "\n",
    "# Importing data\n",
    "## Data source : https://www.kaggle.com/jemishdonda/headbrain\n",
    "\n",
    "data = pd.read_csv('headbrain.csv')\n",
    "X = data['Head Size(cm^3)'].values\n",
    "Y = data['Brain Weight(grams)'].values\n",
    "\n",
    "\n",
    "# Length of the data\n",
    "m = len(X)\n",
    "\n",
    "# Cannot use Rank 1 matrix in scikit learn\n",
    "X = X.reshape((m, 1))\n",
    "\n",
    "# Creating Model\n",
    "reg = LinearRegression()\n",
    "\n",
    "# Fitting training data\n",
    "reg = reg.fit(X, Y)\n",
    "\n",
    "# Y Prediction\n",
    "y_prediction = reg.predict(X)\n",
    "\n",
    "# Calculating R2 Score\n",
    "r2_score = reg.score(X, Y)\n",
    "\n",
    "print(r2_score)"
   ]
  },
  {
   "cell_type": "code",
   "execution_count": 1,
   "metadata": {},
   "outputs": [],
   "source": [
    "## For theoretical understanding visit: https://en.wikipedia.org/wiki/Coefficient_of_determination "
   ]
  }
 ],
 "metadata": {
  "kernelspec": {
   "display_name": "Python 3",
   "language": "python",
   "name": "python3"
  },
  "language_info": {
   "codemirror_mode": {
    "name": "ipython",
    "version": 3
   },
   "file_extension": ".py",
   "mimetype": "text/x-python",
   "name": "python",
   "nbconvert_exporter": "python",
   "pygments_lexer": "ipython3",
   "version": "3.7.4"
  }
 },
 "nbformat": 4,
 "nbformat_minor": 2
}
